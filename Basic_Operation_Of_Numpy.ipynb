{
  "nbformat": 4,
  "nbformat_minor": 0,
  "metadata": {
    "colab": {
      "provenance": []
    },
    "kernelspec": {
      "name": "python3",
      "display_name": "Python 3"
    },
    "language_info": {
      "name": "python"
    }
  },
  "cells": [
    {
      "cell_type": "code",
      "execution_count": 1,
      "metadata": {
        "id": "aEyxebTfr-ks"
      },
      "outputs": [],
      "source": [
        "import numpy as np"
      ]
    },
    {
      "cell_type": "code",
      "source": [
        "a = np.array([1, 2, 3, 4, 5])"
      ],
      "metadata": {
        "id": "RLTWuPuBsfWV"
      },
      "execution_count": 2,
      "outputs": []
    },
    {
      "cell_type": "code",
      "source": [
        "print(\"1D array:\")\n",
        "print(\"Shape:\", a.shape)\n",
        "print(\"Size:\", a.size)\n",
        "print(\"Dimension:\", a.ndim)\n",
        "print(\"Length:\", len(a))"
      ],
      "metadata": {
        "colab": {
          "base_uri": "https://localhost:8080/"
        },
        "id": "Tc5C9E6osh7l",
        "outputId": "f4845ce2-735a-4d6b-ad7e-aceeb0fd971e"
      },
      "execution_count": 4,
      "outputs": [
        {
          "output_type": "stream",
          "name": "stdout",
          "text": [
            "1D array:\n",
            "Shape: (5,)\n",
            "Size: 5\n",
            "Dimension: 1\n",
            "Length: 5\n"
          ]
        }
      ]
    },
    {
      "cell_type": "code",
      "source": [
        "b = np.array([[1, 2, 3], [4, 5, 6]])"
      ],
      "metadata": {
        "id": "zSxfrP5Espg1"
      },
      "execution_count": 5,
      "outputs": []
    },
    {
      "cell_type": "code",
      "source": [
        "print(\"\\n2D array:\")\n",
        "print(\"Shape:\", b.shape)\n",
        "print(\"Size:\", b.size)\n",
        "print(\"Dimension:\", b.ndim)\n",
        "print(\"Length:\", len(b))"
      ],
      "metadata": {
        "colab": {
          "base_uri": "https://localhost:8080/"
        },
        "id": "5BsGMbQLsvpd",
        "outputId": "458315e1-24a9-4beb-8b86-e84b506b0c60"
      },
      "execution_count": 6,
      "outputs": [
        {
          "output_type": "stream",
          "name": "stdout",
          "text": [
            "\n",
            "2D array:\n",
            "Shape: (2, 3)\n",
            "Size: 6\n",
            "Dimension: 2\n",
            "Length: 2\n"
          ]
        }
      ]
    },
    {
      "cell_type": "code",
      "source": [
        "c = np.array([[[1, 2, 3], [4, 5, 6]], [[7, 8, 9], [10, 11, 12]]])"
      ],
      "metadata": {
        "id": "7Dgfy6nCsyvN"
      },
      "execution_count": 7,
      "outputs": []
    },
    {
      "cell_type": "code",
      "source": [
        "print(\"\\n3D array:\")\n",
        "print(\"Shape:\", c.shape)\n",
        "print(\"Size:\", c.size)\n",
        "print(\"Dimension:\", c.ndim)\n",
        "print(\"Length:\", len(c))"
      ],
      "metadata": {
        "colab": {
          "base_uri": "https://localhost:8080/"
        },
        "id": "JqhMdM2Bs4hF",
        "outputId": "05809475-1622-48d8-bac9-95b8c79fe926"
      },
      "execution_count": 8,
      "outputs": [
        {
          "output_type": "stream",
          "name": "stdout",
          "text": [
            "\n",
            "3D array:\n",
            "Shape: (2, 2, 3)\n",
            "Size: 12\n",
            "Dimension: 3\n",
            "Length: 2\n"
          ]
        }
      ]
    },
    {
      "cell_type": "code",
      "source": [
        "arr1 = np.arange(0, 10, 2)\n",
        "print(\"arange:\", arr1)\n",
        "\n",
        "rand_int = np.random.randint(1, 100, size=5)\n",
        "print(\"random.randint:\", rand_int)\n",
        "\n",
        "rand_arr = np.random.rand(3, 2)\n",
        "print(\"random.rand:\", rand_arr)\n",
        "\n",
        "lin_space = np.linspace(0, 5, 10)\n",
        "print(\"linspace:\", lin_space)\n",
        "\n",
        "ones_arr = np.ones((2, 3))\n",
        "print(\"ones:\", ones_arr)\n",
        "\n",
        "zeros_arr = np.zeros((3, 2))\n",
        "print(\"zeros:\", zeros_arr)\n",
        "\n",
        "arr = np.array([[1, 2, 3], [4, 5, 6], [7, 8, 9]])\n",
        "diagonal_elements = np.diag(arr)\n",
        "print(\"diag:\", diagonal_elements)\n",
        "\n",
        "arr = np.array([[1, 2], [3, 4]])\n",
        "print(\"sum:\", np.sum(arr))\n",
        "\n",
        "arr = np.array([3, 1, 5, 2, 8])\n",
        "print(\"min:\", np.min(arr))\n",
        "\n",
        "print(\"max:\", np.max(arr))\n",
        "\n",
        "print(\"mean:\", np.mean(arr))"
      ],
      "metadata": {
        "colab": {
          "base_uri": "https://localhost:8080/"
        },
        "id": "du7BPau8tKzc",
        "outputId": "ce6ecc77-28fa-4c5f-ebe2-6613b2ee464b"
      },
      "execution_count": 10,
      "outputs": [
        {
          "output_type": "stream",
          "name": "stdout",
          "text": [
            "arange: [0 2 4 6 8]\n",
            "random.randint: [ 2 77 91 38 58]\n",
            "random.rand: [[0.13549137 0.6863065 ]\n",
            " [0.09829019 0.29389136]\n",
            " [0.79651286 0.30243085]]\n",
            "linspace: [0.         0.55555556 1.11111111 1.66666667 2.22222222 2.77777778\n",
            " 3.33333333 3.88888889 4.44444444 5.        ]\n",
            "ones: [[1. 1. 1.]\n",
            " [1. 1. 1.]]\n",
            "zeros: [[0. 0.]\n",
            " [0. 0.]\n",
            " [0. 0.]]\n",
            "diag: [1 5 9]\n",
            "sum: 10\n",
            "min: 1\n",
            "max: 8\n",
            "mean: 3.8\n"
          ]
        }
      ]
    },
    {
      "cell_type": "code",
      "source": [
        "arr = np.array([3, 1, 5, 2, 8])\n",
        "print(\"min:\", np.min(arr))\n",
        "\n",
        "print(\"max:\", np.max(arr))\n",
        "\n",
        "print(\"mean:\", np.mean(arr))\n",
        "\n",
        "\n",
        "\n",
        "import numpy as np\n",
        "\n",
        "# Generate random marks for 50 students (assuming there are 50 students)\n",
        "num_students = 50\n",
        "student_marks = np.random.randint(0, 101, size=num_students)\n",
        "\n",
        "# Count the number of students who passed\n",
        "passed_students_count = np.sum(student_marks >= 30)\n",
        "\n",
        "# Filter out the marks of failed students\n",
        "failed_students_marks = student_marks[student_marks < 30]\n",
        "\n",
        "print(\"Number of students passed:\", passed_students_count)\n",
        "print(\"Marks of failed students:\", failed_students_marks)\n",
        "\n",
        "\n",
        "\n",
        "\n",
        "\n",
        "\n",
        "import numpy as np\n",
        "rand_arr = np.random.randint(1, 51, size=(2, 5))\n",
        "print(rand_arr)"
      ],
      "metadata": {
        "colab": {
          "base_uri": "https://localhost:8080/"
        },
        "id": "wevi88A_vDk_",
        "outputId": "2db1937f-6ba6-4ded-be22-207211244e81"
      },
      "execution_count": 11,
      "outputs": [
        {
          "output_type": "stream",
          "name": "stdout",
          "text": [
            "min: 1\n",
            "max: 8\n",
            "mean: 3.8\n",
            "Number of students passed: 35\n",
            "Marks of failed students: [ 9 19 20 16 10 16 24 22  5 17  9  9  4 11 12]\n",
            "[[13  5 29 12 27]\n",
            " [34 48 19  3  4]]\n"
          ]
        }
      ]
    },
    {
      "cell_type": "code",
      "source": [
        "arr = np.array([3, 1, 5, 2, 8])\n",
        "print(\"min:\", np.min(arr))\n",
        "\n",
        "print(\"max:\", np.max(arr))\n",
        "\n",
        "print(\"mean:\", np.mean(arr))\n",
        "\n",
        "\n",
        "\n",
        "import numpy as np\n",
        "\n",
        "num_students = 50\n",
        "student_marks = np.random.randint(0, 101, size=num_students)\n",
        "\n",
        "passed_students_count = np.sum(student_marks >= 30)\n",
        "\n",
        "failed_students_marks = student_marks[student_marks < 30]\n",
        "\n",
        "print(\"Number of students passed:\", passed_students_count)\n",
        "print(\"Marks of failed students:\", failed_students_marks)\n"
      ],
      "metadata": {
        "colab": {
          "base_uri": "https://localhost:8080/"
        },
        "id": "eeScU7_vvFVb",
        "outputId": "8760180e-767c-4fe9-9144-ee886a6215d7"
      },
      "execution_count": 13,
      "outputs": [
        {
          "output_type": "stream",
          "name": "stdout",
          "text": [
            "min: 1\n",
            "max: 8\n",
            "mean: 3.8\n",
            "Number of students passed: 31\n",
            "Marks of failed students: [27  6  6 11 27 10 17 28 25  7 11 10  8  4 24 23 11 14 14]\n"
          ]
        }
      ]
    },
    {
      "cell_type": "code",
      "source": [
        "import numpy as np\n",
        "rand_arr = np.random.randint(1, 51, size=(2, 5))\n",
        "print(rand_arr)"
      ],
      "metadata": {
        "colab": {
          "base_uri": "https://localhost:8080/"
        },
        "id": "PczgGTwovYT7",
        "outputId": "27bae77c-b73c-417a-c178-1c52755becd9"
      },
      "execution_count": 14,
      "outputs": [
        {
          "output_type": "stream",
          "name": "stdout",
          "text": [
            "[[25  1  5  4  6]\n",
            " [14 38  4 39  5]]\n"
          ]
        }
      ]
    },
    {
      "cell_type": "code",
      "source": [
        "import numpy as np\n",
        "\n",
        "odd_numbers = np.arange(-29, 11, 2)\n",
        "print(\"Array of odd numbers between -30 and 10:\", odd_numbers)"
      ],
      "metadata": {
        "colab": {
          "base_uri": "https://localhost:8080/"
        },
        "id": "yRj2CCqGxOJq",
        "outputId": "2f3d0fc4-1212-4f96-ebe0-bc76f0489536"
      },
      "execution_count": 15,
      "outputs": [
        {
          "output_type": "stream",
          "name": "stdout",
          "text": [
            "Array of odd numbers between -30 and 10: [-29 -27 -25 -23 -21 -19 -17 -15 -13 -11  -9  -7  -5  -3  -1   1   3   5\n",
            "   7   9]\n"
          ]
        }
      ]
    }
  ]
}